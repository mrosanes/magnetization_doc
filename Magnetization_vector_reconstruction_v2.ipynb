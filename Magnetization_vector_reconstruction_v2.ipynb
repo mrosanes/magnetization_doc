{
 "cells": [
  {
   "cell_type": "markdown",
   "metadata": {
    "slideshow": {
     "slide_type": "slide"
    }
   },
   "source": [
    "# MAGNETIZATION VECTOR FIELD RECONSTRUCTION\n",
    "\n",
    "## Notebook Documentation\n",
    "\n",
    "<br>\n",
    "<br>\n",
    "<img alt=\"Creative Commons License\" style=\"border-width:0\" src=\"https://i.creativecommons.org/l/by/4.0/88x31.png\" />\n",
    "Magnetization Vector Field Reconstruction Notebook Documentation is licensed under the Creative Commons Attribution 4.0 International License.  \n",
    "To view a copy of this license, visit http://creativecommons.org/licenses/by/4.0/.\n",
    "\n",
    "Documentation Authors:\n",
    "- Doga Gursoy\n",
    "- Aurelio Hierro\n",
    "- Marc Rosanes"
   ]
  },
  {
   "cell_type": "markdown",
   "metadata": {
    "slideshow": {
     "slide_type": "slide"
    }
   },
   "source": [
    "# Testing the 3D vector field reconstruction algorithm \n",
    "## From a reconstructed 3D object to its projections and back\n",
    "\n",
    "In order to test the algorithm, the projections of a reconstructed oject can be computed, and from these projections we can come back to the reconstructed model object. If the appearance of the reconstructed model object from its computed projections is similar to the initial 3D object, this means that the vectorial reconstruction algorithm is performing correctly.\n",
    "\n",
    "\n",
    "\n",
    "\n"
   ]
  },
  {
   "cell_type": "markdown",
   "metadata": {
    "slideshow": {
     "slide_type": "slide"
    }
   },
   "source": [
    "# Magnetic reconstruction\n",
    "\n",
    "(1a) $$log[T_{+\\delta}] + log[T_{-\\delta}] = 2\\int{L(t)^{-1}dt}$$  \n",
    "(2a) $$log[T_{+\\delta}] - log[T_{-\\delta}] = 2\\int{L(t)^{-1}\\delta(t)[\\vec{k}\\bullet \\vec{m(t)}]dt}$$ \n",
    "\n",
    "\n",
    "Equation 1 is used to obtain the values of the attenuation length (L), while equation (2a) will allow extracting the magnetization configuration (**m**) of the system.\n",
    "\n",
    "It is important to note, that we are not directly reconstructing the reduced magnetization vector; we are reconstructing $2L(t)^{-1}\\delta(t)\\vec{m(t)}$. The contribution of the attenuation length can be accounted for by using the scalar field reconstruction using equeation (1a), and then using those values in the model to isolate $\\delta(t)m(t)$. The latter is proportional to the magnetization configuration.\n",
    "\n",
    "Thus it is necessary to take into account the attenuation lenght contribution, when this L is not consant throgout the object. Not taking into account L if it has hight variations, would imply that maybe we are mostly seeing its contribution in the reconstruction, instead of being seeing the contribution done by the magnetization **m**, in which we are interested. However, if L is constant throughout the object, reconstructing the full quantity $2L(t)^{-1}\\delta(t)\\vec{m(t)}$, will already give us a qualitative idea of the directions of the magnetization vector fi\n",
    "\n",
    "\n",
    "*Reference for this slide: 3D reconstruction of magnetization from dichroic soft X-ray trasmission tomography (Aurelio Hierro et Al.)*"
   ]
  },
  {
   "cell_type": "code",
   "execution_count": null,
   "metadata": {},
   "outputs": [],
   "source": []
  },
  {
   "cell_type": "code",
   "execution_count": null,
   "metadata": {},
   "outputs": [],
   "source": []
  }
 ],
 "metadata": {
  "celltoolbar": "Slideshow",
  "kernelspec": {
   "display_name": "Python 2",
   "language": "python",
   "name": "python2"
  },
  "language_info": {
   "codemirror_mode": {
    "name": "ipython",
    "version": 2
   },
   "file_extension": ".py",
   "mimetype": "text/x-python",
   "name": "python",
   "nbconvert_exporter": "python",
   "pygments_lexer": "ipython2",
   "version": "2.7.14"
  }
 },
 "nbformat": 4,
 "nbformat_minor": 2
}
