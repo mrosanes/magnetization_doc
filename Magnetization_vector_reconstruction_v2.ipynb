{
 "cells": [
  {
   "cell_type": "markdown",
   "metadata": {
    "slideshow": {
     "slide_type": "slide"
    }
   },
   "source": [
    "# MAGNETIZATION VECTOR FIELD RECONSTRUCTION\n",
    "\n",
    "## Notebook Documentation\n",
    "\n",
    "<br>\n",
    "<br>\n",
    "<img alt=\"Creative Commons License\" style=\"border-width:0\" src=\"https://i.creativecommons.org/l/by/4.0/88x31.png\" />\n",
    "Magnetization Vector Field Reconstruction Notebook Documentation is licensed under the Creative Commons Attribution 4.0 International License.  \n",
    "To view a copy of this license, visit http://creativecommons.org/licenses/by/4.0/.\n",
    "\n",
    "Documentation Authors:\n",
    "- Doga Gursoy\n",
    "- Aurelio Hierro\n",
    "- Marc Rosanes"
   ]
  },
  {
   "cell_type": "markdown",
   "metadata": {
    "slideshow": {
     "slide_type": "slide"
    }
   },
   "source": [
    "# Magnetization vector field reconstruction principle\n",
    "\n",
    "(1a) $$log[T_{+\\delta}] + log[T_{-\\delta}] = 2\\int{L(t)^{-1}dt}$$  \n",
    "(2a) $$log[T_{+\\delta}] - log[T_{-\\delta}] = 2\\int{L(t)^{-1}\\delta(t)[\\vec{k}\\bullet \\vec{m(t)}]dt}$$ \n",
    "\n",
    "\n",
    "Equation 1 is used to obtain the values of the attenuation length (L), while equation (2a) will allow extracting the magnetization configuration (**m**) of the system.\n",
    "\n",
    "It is important to note, that we are not directly reconstructing the reduced magnetization vector; we are reconstructing $2L(t)^{-1}\\delta(t)\\vec{m(t)}$. The contribution of the attenuation length can be accounted for by using the scalar field reconstruction using equeation (1a), and then using those values in the model to isolate $\\delta(t)\\vec{m(t)}$. The latter is proportional to the magnetization configuration.\n",
    "\n",
    "\n",
    "\n",
    "\n",
    "*Reference for this slide: 3D reconstruction of magnetization from dichroic soft X-ray trasmission tomography (Aurelio Hierro et Al.)*"
   ]
  },
  {
   "cell_type": "markdown",
   "metadata": {
    "slideshow": {
     "slide_type": "subslide"
    }
   },
   "source": [
    "### Magnetization vector field reconstruction principle continuation\n",
    "\n",
    "Thus it is necessary to take into account the attenuation lenght contribution, when this L is not consant throgout the object. Not taking into account L if it has high variations, would imply that we could be seeing mostly the L contribution in the reconstruction, instead of being seeing the contribution done by the magnetization **m**, in which we are interested. However, if L is quite constant throughout the object, reconstructing the full quantity $2L(t)^{-1}\\delta(t)\\vec{m(t)}$, will already give us a qualitative idea of the directions of the magnetization vector field **m**.\n"
   ]
  },
  {
   "cell_type": "markdown",
   "metadata": {
    "slideshow": {
     "slide_type": "slide"
    }
   },
   "source": [
    "# Testing the 3D vector field reconstruction algorithm \n",
    "## From a reconstructed 3D object to its projections and back\n",
    "\n",
    "In order to test the algorithm, the projections of a reconstructed oject can be computed, and from these projections we can come back to the reconstructed model object. If the appearance of the reconstructed model object from its computed projections is similar to the initial 3D object, this means that the vectorial reconstruction algorithm is performing correctly.\n",
    "\n",
    "For our purposes, we will work with a simulated object with a quite constant attenuation length L throghout the object. We will find the projections of this object on the three perpendicular cartesian axis of rotation, and then we will use all this projections in order to reconstruct the object again. This will allow us to check the validity of the algorithm.\n",
    "\n",
    "The projections of the object will give us the difference of the logarithms of the transmittance in each one of the three perpendicular axes.\n",
    "\n",
    "\n",
    "\n",
    "\n"
   ]
  },
  {
   "cell_type": "markdown",
   "metadata": {
    "slideshow": {
     "slide_type": "subslide"
    }
   },
   "source": [
    "### Testing the 3D vector field reconstruction algorithm\n",
    "\n",
    "\n",
    "First, let's make the necessary imports"
   ]
  },
  {
   "cell_type": "code",
   "execution_count": 24,
   "metadata": {
    "slideshow": {
     "slide_type": "fragment"
    }
   },
   "outputs": [],
   "source": [
    "import dxchange\n",
    "import tomopy\n",
    "import numpy as np\n",
    "import matplotlib.pyplot as plt\n",
    "import time"
   ]
  },
  {
   "cell_type": "markdown",
   "metadata": {
    "slideshow": {
     "slide_type": "subslide"
    }
   },
   "source": [
    "...let us load the our object: the three components of the magnetization vector all along the object. The shapes will be read in order to verify that the object magnetization components (in this case: $2L^{-1}\\delta\\vec{m}$) have been correctly loaded.\n"
   ]
  },
  {
   "cell_type": "code",
   "execution_count": 29,
   "metadata": {
    "slideshow": {
     "slide_type": "fragment"
    }
   },
   "outputs": [
    {
     "name": "stdout",
     "output_type": "stream",
     "text": [
      "(44, 280, 408)\n",
      "(44, 280, 408)\n",
      "(44, 280, 408)\n"
     ]
    }
   ],
   "source": [
    "obx = dxchange.read_tiff('./DATA/input/simulation_1/M4R1_mx.tif')\n",
    "oby = dxchange.read_tiff('./DATA/input/simulation_1/M4R1_my.tif')\n",
    "obz = dxchange.read_tiff('./DATA/input/simulation_1/M4R1_mz.tif')\n",
    "\n",
    "print(np.shape(obx))\n",
    "print(np.shape(oby))\n",
    "print(np.shape(obz))\n"
   ]
  },
  {
   "cell_type": "markdown",
   "metadata": {
    "slideshow": {
     "slide_type": "subslide"
    }
   },
   "source": [
    "...we will downsample the three axes of each of the magnetization vector components, in order to perform the calculations more rapidly."
   ]
  },
  {
   "cell_type": "code",
   "execution_count": 30,
   "metadata": {
    "slideshow": {
     "slide_type": "fragment"
    }
   },
   "outputs": [
    {
     "name": "stdout",
     "output_type": "stream",
     "text": [
      "(11, 70, 102)\n",
      "(11, 70, 102)\n",
      "(11, 70, 102)\n"
     ]
    }
   ],
   "source": [
    "obx = tomopy.downsample(obx, level=2, axis=0)\n",
    "obx = tomopy.downsample(obx, level=2, axis=1)\n",
    "obx = tomopy.downsample(obx, level=2, axis=2)\n",
    "\n",
    "oby = tomopy.downsample(oby, level=2, axis=0)\n",
    "oby = tomopy.downsample(oby, level=2, axis=1)\n",
    "oby = tomopy.downsample(oby, level=2, axis=2)\n",
    "\n",
    "obz = tomopy.downsample(obz, level=2, axis=0)\n",
    "obz = tomopy.downsample(obz, level=2, axis=1)\n",
    "obz = tomopy.downsample(obz, level=2, axis=2)\n",
    "\n",
    "print(np.shape(obx))\n",
    "print(np.shape(oby))\n",
    "print(np.shape(obz))"
   ]
  },
  {
   "cell_type": "markdown",
   "metadata": {
    "slideshow": {
     "slide_type": "subslide"
    }
   },
   "source": [
    "...we will define the projection angles: 31 angles, from 90 to 270 degrees:"
   ]
  },
  {
   "cell_type": "code",
   "execution_count": 20,
   "metadata": {
    "slideshow": {
     "slide_type": "fragment"
    }
   },
   "outputs": [],
   "source": [
    "ang = tomopy.angles(31, 90, 270)"
   ]
  },
  {
   "cell_type": "markdown",
   "metadata": {
    "slideshow": {
     "slide_type": "subslide"
    }
   },
   "source": [
    "...and calculate the projections of the object taking rotation axes around the three perpendicular cartesian axes:"
   ]
  },
  {
   "cell_type": "code",
   "execution_count": 62,
   "metadata": {
    "slideshow": {
     "slide_type": "fragment"
    }
   },
   "outputs": [
    {
     "name": "stdout",
     "output_type": "stream",
     "text": [
      "(31, 11, 70)\n",
      "(31, 11, 70)\n",
      "(31, 11, 70)\n"
     ]
    },
    {
     "data": {
      "image/png": "[encoded data removed]",
      "text/plain": [
       "<matplotlib.figure.Figure at 0x7f92d226e990>"
      ]
     },
     "metadata": {},
     "output_type": "display_data"
    },
    {
     "data": {
      "image/png": "[encoded data removed]",
      "text/plain": [
       "<matplotlib.figure.Figure at 0x7f92d1dc7610>"
      ]
     },
     "metadata": {},
     "output_type": "display_data"
    },
    {
     "data": {
      "image/png": "[encoded data removed]",
      "text/plain": [
       "<matplotlib.figure.Figure at 0x7f92d1e040d0>"
      ]
     },
     "metadata": {},
     "output_type": "display_data"
    }
   ],
   "source": [
    "prj1 = tomopy.project3(obx, oby, obz, ang, axis=0, pad=False)\n",
    "prj2 = tomopy.project3(obx, oby, obz, ang, axis=1, pad=False)\n",
    "prj3 = tomopy.project3(obx, oby, obz, ang, axis=2, pad=False)\n",
    "print(np.shape(prj1))\n",
    "print(np.shape(prj2))\n",
    "print(np.shape(prj3))\n",
    "plt.figure()\n",
    "imgplot1 = plt.imshow(prj1[:,:,10])\n",
    "plt.figure()\n",
    "imgplot2 = plt.imshow(prj2[:,:,10])\n",
    "plt.figure()\n",
    "imgplot3 = plt.imshow(prj3[:,:,10])"
   ]
  },
  {
   "cell_type": "code",
   "execution_count": null,
   "metadata": {},
   "outputs": [],
   "source": []
  }
 ],
 "metadata": {
  "celltoolbar": "Slideshow",
  "kernelspec": {
   "display_name": "Python 2",
   "language": "python",
   "name": "python2"
  },
  "language_info": {
   "codemirror_mode": {
    "name": "ipython",
    "version": 2
   },
   "file_extension": ".py",
   "mimetype": "text/x-python",
   "name": "python",
   "nbconvert_exporter": "python",
   "pygments_lexer": "ipython2",
   "version": "2.7.14"
  }
 },
 "nbformat": 4,
 "nbformat_minor": 2
}
